{
 "cells": [
  {
   "cell_type": "code",
   "execution_count": 3,
   "id": "432a8f91-087a-4a61-a2e2-95d060f34655",
   "metadata": {},
   "outputs": [],
   "source": [
    "import pandas as pd\n",
    "from sklearn.metrics.pairwise import cosine_similarity\n",
    "from sklearn.preprocessing import StandardScaler"
   ]
  },
  {
   "cell_type": "code",
   "execution_count": 4,
   "id": "21e890f2-c426-476e-a922-84d9ca403dd5",
   "metadata": {},
   "outputs": [],
   "source": [
    "customers = pd.read_csv(\"Customers.csv\")\n",
    "products = pd.read_csv(\"Products.csv\")\n",
    "transactions = pd.read_csv(\"Transactions.csv\")\n"
   ]
  },
  {
   "cell_type": "code",
   "execution_count": 5,
   "id": "fd39464c-8b69-4515-a024-db25de70cfaf",
   "metadata": {},
   "outputs": [],
   "source": [
    "merged_data = transactions.merge(customers, on=\"CustomerID\").merge(products, on=\"ProductID\")\n"
   ]
  },
  {
   "cell_type": "code",
   "execution_count": 6,
   "id": "94d0989d-c9f1-4994-8861-0f79d285fb41",
   "metadata": {},
   "outputs": [],
   "source": [
    "# Create a customer-product matrix\n",
    "customer_product_matrix = merged_data.pivot_table(\n",
    "    index=\"CustomerID\", columns=\"ProductID\", values=\"Quantity\", aggfunc=\"sum\", fill_value=0\n",
    ")"
   ]
  },
  {
   "cell_type": "code",
   "execution_count": 7,
   "id": "a9f70582-4880-405d-b077-4304198f957b",
   "metadata": {},
   "outputs": [],
   "source": [
    "# Add customer profile features (e.g., region encoded as numerical values)\n",
    "profile_data = customers.copy()\n",
    "profile_data[\"Region\"] = profile_data[\"Region\"].astype(\"category\").cat.codes\n",
    "customer_features = profile_data.set_index(\"CustomerID\")[[\"Region\"]]\n"
   ]
  },
  {
   "cell_type": "code",
   "execution_count": 8,
   "id": "97bed46a-9561-48b3-9a0c-7ae055a63dc7",
   "metadata": {},
   "outputs": [],
   "source": [
    "# Merge customer-product matrix with profile features\n",
    "combined_features = customer_product_matrix.join(customer_features, how=\"left\").fillna(0)\n"
   ]
  },
  {
   "cell_type": "code",
   "execution_count": 9,
   "id": "625cc63f-9d23-40d6-9329-b2858bc91426",
   "metadata": {},
   "outputs": [],
   "source": [
    "# Normalize the data for similarity calculation\n",
    "scaler = StandardScaler()\n",
    "normalized_features = scaler.fit_transform(combined_features)"
   ]
  },
  {
   "cell_type": "code",
   "execution_count": 10,
   "id": "fa17e4de-87b8-4739-8b43-4b83c93da5bd",
   "metadata": {},
   "outputs": [],
   "source": [
    "# Step 4: Calculate Similarities\n",
    "# Compute cosine similarity between all customers\n",
    "similarity_matrix = cosine_similarity(normalized_features)\n"
   ]
  },
  {
   "cell_type": "code",
   "execution_count": 11,
   "id": "9749014f-bf0e-4d22-95bd-9b375eed872d",
   "metadata": {},
   "outputs": [],
   "source": [
    "# Convert similarity matrix to a DataFrame for better readability\n",
    "similarity_df = pd.DataFrame(similarity_matrix, index=combined_features.index, columns=combined_features.index)"
   ]
  },
  {
   "cell_type": "code",
   "execution_count": 12,
   "id": "9c0c73ac-2be7-4323-ade4-66fcb5fdc2f2",
   "metadata": {},
   "outputs": [],
   "source": [
    "# Step 5: Generate Lookalike Recommendations\n",
    "# Function to get top N similar customers for a given customer\n",
    "def get_top_lookalikes(customer_id, top_n=3):\n",
    "    if customer_id not in similarity_df.index:\n",
    "        return []\n",
    "    similar_customers = similarity_df[customer_id].sort_values(ascending=False)[1 : top_n + 1]\n",
    "    return [(cust_id, round(score, 4)) for cust_id, score in similar_customers.items()]"
   ]
  },
  {
   "cell_type": "code",
   "execution_count": 13,
   "id": "07658ec5-d733-4f87-9d68-db3889fc69b3",
   "metadata": {},
   "outputs": [],
   "source": [
    "# Get lookalikes for the first 20 customers\n",
    "lookalikes = {}\n",
    "for customer_id in customers[\"CustomerID\"][:20]:\n",
    "    lookalikes[customer_id] = get_top_lookalikes(customer_id)"
   ]
  },
  {
   "cell_type": "code",
   "execution_count": 14,
   "id": "bf37a059-3c61-4d35-90b0-4cd06e344315",
   "metadata": {},
   "outputs": [],
   "source": [
    "# Step 6: Save Results\n",
    "# Convert lookalikes to the required format\n",
    "lookalike_list = [{\"cust_id\": cust, \"lookalikes\": lookalikes[cust]} for cust in lookalikes]\n",
    "lookalike_df = pd.DataFrame(lookalike_list)"
   ]
  },
  {
   "cell_type": "code",
   "execution_count": 15,
   "id": "6d479f96-920b-4af8-9f36-a6309c159467",
   "metadata": {},
   "outputs": [],
   "source": [
    "# Save to CSV\n",
    "lookalike_csv_output = []\n",
    "for cust_id, lookalike_data in lookalikes.items():\n",
    "    for lookalike_id, score in lookalike_data:\n",
    "        lookalike_csv_output.append({\"cust_id\": cust_id, \"lookalike_id\": lookalike_id, \"score\": score})\n"
   ]
  },
  {
   "cell_type": "code",
   "execution_count": 16,
   "id": "6138e1ec-0509-439e-ba23-6b9cdeea2324",
   "metadata": {},
   "outputs": [],
   "source": [
    "lookalike_csv = pd.DataFrame(lookalike_csv_output)\n",
    "lookalike_csv.to_csv(\"FirstName_LastName_Lookalike.csv\", index=False)"
   ]
  },
  {
   "cell_type": "code",
   "execution_count": 17,
   "id": "a1332b78-2c74-4b7b-bbe7-e89afe5af7e8",
   "metadata": {},
   "outputs": [
    {
     "name": "stdout",
     "output_type": "stream",
     "text": [
      "Lookalike recommendations saved to 'FirstName_LastName_Lookalike.csv'\n"
     ]
    }
   ],
   "source": [
    "print(\"Lookalike recommendations saved to 'FirstName_LastName_Lookalike.csv'\")"
   ]
  },
  {
   "cell_type": "code",
   "execution_count": null,
   "id": "f6f3e984-cbbc-4977-837b-169cc5391d29",
   "metadata": {},
   "outputs": [],
   "source": []
  }
 ],
 "metadata": {
  "kernelspec": {
   "display_name": "Python 3 (ipykernel)",
   "language": "python",
   "name": "python3"
  },
  "language_info": {
   "codemirror_mode": {
    "name": "ipython",
    "version": 3
   },
   "file_extension": ".py",
   "mimetype": "text/x-python",
   "name": "python",
   "nbconvert_exporter": "python",
   "pygments_lexer": "ipython3",
   "version": "3.12.7"
  }
 },
 "nbformat": 4,
 "nbformat_minor": 5
}
